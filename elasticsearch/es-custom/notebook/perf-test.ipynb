{
 "cells": [
  {
   "cell_type": "markdown",
   "id": "allied-survival",
   "metadata": {},
   "source": [
    "# performance test"
   ]
  },
  {
   "cell_type": "markdown",
   "id": "impressive-fraction",
   "metadata": {},
   "source": [
    "## Setup"
   ]
  },
  {
   "cell_type": "code",
   "execution_count": 1,
   "id": "tender-lottery",
   "metadata": {},
   "outputs": [],
   "source": [
    "from pprint import pprint\n",
    "import json\n",
    "from datetime import date, datetime\n",
    "\n",
    "def json_serial(obj):\n",
    "    \"\"\"\n",
    "    Convert datetime as string to avoid 'TypeError: Object of type datetime is not JSON serializable'\n",
    "    \"\"\"\n",
    "    if isinstance(obj, (datetime, date)):\n",
    "        return obj.isoformat()\n",
    "    raise TypeError (\"Type %s not serializable\" % type(obj))\n",
    "\n",
    "\n",
    "def pp_json(d):\n",
    "    \"\"\"\n",
    "    Parse dict to json\n",
    "    \"\"\"\n",
    "    print(json.dumps(d, indent=2, default=json_serial))"
   ]
  },
  {
   "cell_type": "code",
   "execution_count": 2,
   "id": "polar-sydney",
   "metadata": {},
   "outputs": [
    {
     "name": "stdout",
     "output_type": "stream",
     "text": [
      "Requirement already satisfied: elasticsearch==7.9.1 in /opt/conda/lib/python3.8/site-packages (7.9.1)\r\n",
      "Requirement already satisfied: urllib3>=1.21.1 in /opt/conda/lib/python3.8/site-packages (from elasticsearch==7.9.1) (1.26.4)\r\n",
      "Requirement already satisfied: certifi in /opt/conda/lib/python3.8/site-packages (from elasticsearch==7.9.1) (2020.12.5)\r\n"
     ]
    }
   ],
   "source": [
    "!pip install elasticsearch==7.9.1"
   ]
  },
  {
   "cell_type": "code",
   "execution_count": 3,
   "id": "refined-proposition",
   "metadata": {},
   "outputs": [],
   "source": [
    "from elasticsearch import Elasticsearch\n",
    "es = Elasticsearch('elasticsearch:9200')"
   ]
  },
  {
   "cell_type": "code",
   "execution_count": 4,
   "id": "supposed-purse",
   "metadata": {},
   "outputs": [
    {
     "data": {
      "text/plain": [
       "{'name': '0f828e83b923',\n",
       " 'cluster_name': 'docker-cluster',\n",
       " 'cluster_uuid': '94Dc9H8SQZ2KyUBol9P5Kg',\n",
       " 'version': {'number': '7.9.1',\n",
       "  'build_flavor': 'default',\n",
       "  'build_type': 'docker',\n",
       "  'build_hash': '083627f112ba94dffc1232e8b42b73492789ef91',\n",
       "  'build_date': '2020-09-01T21:22:21.964974Z',\n",
       "  'build_snapshot': False,\n",
       "  'lucene_version': '8.6.2',\n",
       "  'minimum_wire_compatibility_version': '6.8.0',\n",
       "  'minimum_index_compatibility_version': '6.0.0-beta1'},\n",
       " 'tagline': 'You Know, for Search'}"
      ]
     },
     "execution_count": 4,
     "metadata": {},
     "output_type": "execute_result"
    }
   ],
   "source": [
    "es.info()"
   ]
  },
  {
   "cell_type": "code",
   "execution_count": 5,
   "id": "instant-portugal",
   "metadata": {},
   "outputs": [
    {
     "data": {
      "text/plain": [
       "'0f828e83b923 elasticsearch-analysis-vietnamese 7.9.1\\n'"
      ]
     },
     "execution_count": 5,
     "metadata": {},
     "output_type": "execute_result"
    }
   ],
   "source": [
    "es.cat.plugins()"
   ]
  },
  {
   "cell_type": "markdown",
   "id": "linear-habitat",
   "metadata": {},
   "source": [
    "# Performance test"
   ]
  },
  {
   "cell_type": "markdown",
   "id": "insured-mother",
   "metadata": {},
   "source": [
    "### Loop following steps\n",
    "1. PUT *test-N*\n",
    "1. PUT *test-N/_mapping*\n",
    "1. DELETE *test-N*\n"
   ]
  },
  {
   "cell_type": "markdown",
   "id": "becoming-generic",
   "metadata": {},
   "source": [
    "### Expected result\n",
    "- Increasing stdout message **Loading unigram model...OK** in timber log\n",
    "    - This might be caused by [Vietnamese Analysis plugin](https://docs.aws.amazon.com/elasticsearch-service/latest/developerguide/aes-supported-plugins.html), which is supported since 7.7.\n",
    "- Consuming a lot of heap space by Vietnamese Analysis plugin"
   ]
  },
  {
   "cell_type": "code",
   "execution_count": 6,
   "id": "continental-article",
   "metadata": {},
   "outputs": [],
   "source": [
    "import time\n",
    "import datetime\n",
    "\n",
    "def test_suite(es, index_name, mapping, doc_type):\n",
    "    \"\"\"\n",
    "    1. PUT index\n",
    "    2. PUT index/_mapping\n",
    "    3. DELETE index\n",
    "    \"\"\"\n",
    "    es.indices.create(index=index_name)\n",
    "    time.sleep(0.02)\n",
    "\n",
    "    if doc_type is None:\n",
    "        es.indices.put_mapping(index=index_name, body=mapping)\n",
    "    else:\n",
    "        es.indices.put_mapping(index=index_name, body=mapping, doc_type=doc_type)\n",
    "    time.sleep(0.02)\n",
    "    \n",
    "    es.indices.delete(index=index_name)\n",
    "    time.sleep(0.02)\n",
    "\n",
    "\n",
    "def execute_test(description, es, mapping, doc_type=None, time=10):\n",
    "    print(f\"Start test {description} at {datetime.datetime.now().isoformat()}\")\n",
    "\n",
    "    # Delete indices before test\n",
    "    es.indices.delete(index=\"test-*\")\n",
    "\n",
    "    for i in range(time):\n",
    "        test_suite(es, f\"test-{i}\", mapping, doc_type)\n",
    "\n",
    "    print(f\"End test {description} at {datetime.datetime.now().isoformat()}\")"
   ]
  },
  {
   "cell_type": "markdown",
   "id": "pharmaceutical-litigation",
   "metadata": {},
   "source": [
    "## Sample test"
   ]
  },
  {
   "cell_type": "code",
   "execution_count": 7,
   "id": "dominican-mixer",
   "metadata": {},
   "outputs": [
    {
     "name": "stdout",
     "output_type": "stream",
     "text": [
      "Start test sample at 2021-04-18T14:18:54.481661\n",
      "End test sample at 2021-04-18T14:19:08.030331\n",
      "CPU times: user 56.5 ms, sys: 14.1 ms, total: 70.6 ms\n",
      "Wall time: 13.6 s\n"
     ]
    }
   ],
   "source": [
    "%%time\n",
    "mapping = {\n",
    "    \"properties\": {\n",
    "      \"foo\": {\n",
    "        \"type\": \"text\"\n",
    "      },\n",
    "      \"bar\": {\n",
    "        \"type\": \"long\"\n",
    "      }\n",
    "    }\n",
    "  }\n",
    "execute_test(\"sample\", es=es, mapping=mapping)"
   ]
  },
  {
   "cell_type": "markdown",
   "id": "owned-beaver",
   "metadata": {},
   "source": [
    "## Loop test"
   ]
  },
  {
   "cell_type": "code",
   "execution_count": 8,
   "id": "sapphire-project",
   "metadata": {},
   "outputs": [
    {
     "name": "stdout",
     "output_type": "stream",
     "text": [
      "Start test sample at 2021-04-18T14:19:23.600186\n",
      "End test sample at 2021-04-18T14:21:51.763159\n",
      "CPU times: user 989 ms, sys: 312 ms, total: 1.3 s\n",
      "Wall time: 2min 28s\n"
     ]
    }
   ],
   "source": [
    "%%time\n",
    "mapping = {\n",
    "    \"properties\": {\n",
    "      \"foo\": {\n",
    "        \"type\": \"text\"\n",
    "      },\n",
    "      \"bar\": {\n",
    "        \"type\": \"long\"\n",
    "      }\n",
    "    }\n",
    "  }\n",
    "execute_test(\"sample\", es=es, mapping=mapping, time=300)"
   ]
  }
 ],
 "metadata": {
  "kernelspec": {
   "display_name": "Python 3",
   "language": "python",
   "name": "python3"
  },
  "language_info": {
   "codemirror_mode": {
    "name": "ipython",
    "version": 3
   },
   "file_extension": ".py",
   "mimetype": "text/x-python",
   "name": "python",
   "nbconvert_exporter": "python",
   "pygments_lexer": "ipython3",
   "version": "3.8.8"
  },
  "toc-autonumbering": true
 },
 "nbformat": 4,
 "nbformat_minor": 5
}